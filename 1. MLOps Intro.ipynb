{
 "cells": [
  {
   "cell_type": "markdown",
   "id": "8687d3f7",
   "metadata": {},
   "source": [
    "## 1. MLOps motivation\n",
    "Only one in two organizations has moved beyond pilots and proofs of concept. \n",
    "Moreover, 72% of a cohort of organizations that began AI pilots before 2019 have not been able to deploy\n",
    "even a single application in production according to The AI-powered enterprise Capgemini Reasearch Institute.\n",
    "\n",
    "Models don’t make it into production, and if they do, they break because they fail to adapt to changes in the environment.\n",
    "\n",
    "### Reasons for fail in ML\n",
    "* Teams engage in a high degree of manual and one-off work.\n",
    "* Teams do not have reusable or reproducible components\n",
    "* Processes involve difficulties in handoffs between data scientists and IT\n",
    "* Lack of talent and integration issues \n",
    "* Lack of strong governance models for achieving scale\n",
    "\n",
    "\n",
    "### ML Engineering  is at the center of building ML-enabled systems\n",
    "ML engineering provides a superset of the discipline of software engineering that handles the unique complexities of the practical applications of ML\n",
    "\n",
    "- Preparing and maintaining high-quality data for training ML models.\n",
    "- Tracking models in production to detect performance degradation.\n",
    "- Performing ongoing experimentation of new data sources, ML algorithms, and hyperparameters, and then\n",
    "tracking these experiments.\n",
    "- Maintaining the veracity of models by continuously retraining them on fresh data.\n",
    "- Avoiding training-serving skews that are due to inconsistencies in data and in runtime dependencies between\n",
    "training environments and serving environments.\n",
    "- Handling concerns about model fairness and adversarial attacks."
   ]
  },
  {
   "cell_type": "markdown",
   "id": "1e814cf0",
   "metadata": {},
   "source": [
    "## MLOps Definition\n",
    "MLOps is a methodology for ML engineering that unifies:\n",
    "1. ML system development (the ML element) with \n",
    "2. ML system operations (the Ops element)\n",
    "\n",
    "MLOps supports ML development and deployment in the way that DevOps and DataOps support application engineering and data engineering (analytics). The difference is that when you deploy a web service, you care about resilience, queries per second, load balancing, and so on. When you deploy an ML model, you also need to worry about\n",
    "changes in the data, changes in the model, users trying to game the system, and so on\n",
    "\n",
    "It advocates formalizing and (when beneficial) automating critical steps of ML system\n",
    "construction. MLOps provides a set of standardized processes and technology capabilities for building, deploying,\n",
    "and operationalizing ML systems rapidly and reliably.\n",
    "\n",
    "### Benefits of MLOps practices\n",
    "- Shorter development cycles, and as a result, shorter time to market.\n",
    "- Better collaboration between teams.\n",
    "- Increased reliability, performance, scalability, and security of ML systems.\n",
    "- Streamlined operational and governance processes.\n",
    "- Increased return on investment of ML projects."
   ]
  },
  {
   "cell_type": "markdown",
   "id": "9587f20b",
   "metadata": {},
   "source": [
    "## MLOps Lifecycle\n",
    "<img src=\"graphs/mlops_lifecycle.png\" alt=\"image\" width=\"300\" height=\"auto\">\n",
    "\n",
    "### The MLOps lifecycle encompasses seven integrated and iterative processes\n",
    "- ML development concerns experimenting and developing a robust and reproducible model training procedure (training pipeline code), which consists of multiple tasks from data preparation and transformation to\n",
    "model training and evaluation.\n",
    "- Training operationalization concerns automating the process of packaging, testing, and deploying repeatable and reliable training pipelines.\n",
    "- Continuous training concerns repeatedly executing the training pipeline in response to new data or to code\n",
    "changes, or on a schedule, potentially with new training settings.\n",
    "- Model deployment concerns packaging, testing, and deploying a model to a serving environment for online\n",
    "experimentation and production serving.\n",
    "- Prediction serving is about serving the model that is deployed in production for inference.\n",
    "- Continuous monitoring is about monitoring the effectiveness and efficiency of a deployed model.\n",
    "- Data and model management is a central, cross-cutting function for governing ML artifacts to support auditability, traceability, and compliance. Data and model management can also promote shareability, reusability,\n",
    "and discoverability of ML assets."
   ]
  },
  {
   "cell_type": "markdown",
   "id": "8558f821",
   "metadata": {},
   "source": [
    "## MLOps end-to-end workflow\n",
    "Simplified but canonical flow for how the MLOps processes interact with each other, focusing on\n",
    "high-level flow of control and on key inputs and outputs.\n",
    "\n",
    "This is not a waterfall workflow that has to sequentially pass through all the processes. \n",
    "\n",
    "The processes can be skipped, or the flow can repeat a given phase or a subsequence of the processes\n",
    "<img src=\"graphs/mlops_workflow.png\" alt=\"image\" width=\"500\" height=\"auto\">\n",
    "\n",
    "\n",
    "1. ML development == experimentation. \n",
    "    * prototype model architectures and training routines\n",
    "    * create labeled datasets\n",
    "    * use features and other reusable ML artifacts that are governed through the data and model management process\n",
    "    * primary output of this process is a formalized training procedure, which includes:\n",
    "        * data preprocessing\n",
    "        * model architecture\n",
    "        * model training settings.\n",
    "\n",
    "2. Training operationalization (if required)\n",
    "    * the training procedure is operationalized as a training pipeline\n",
    "    * requires a CI/CD routine to\n",
    "        * build,\n",
    "        * test,\n",
    "        * deploy the pipeline to the target execution environment.\n",
    "\n",
    "3. The continuous training \n",
    "    * its pipeline is executed repeatedly based on retraining triggers\n",
    "    * produces a model as output \n",
    "    * The model is retrained as \n",
    "        * new data becomes available or \n",
    "        * if model performance decay is detected.\n",
    "    * Other training artifacts and metadata that are produced by a training pipeline are also tracked. \n",
    "    * If the pipeline produces a successful model candidate, that candidate is then tracked by the model management process as a registered model.\n",
    "\n",
    "4. The registered model is \n",
    "    * annotated\n",
    "    * reviewed\n",
    "    * approved for release \n",
    "    * finally deployed to a production environment.\n",
    "This process might be relatively opaque if you are using a no-code solution, or it can involve building a custom CI/CD pipeline for progressive delivery.\n",
    "\n",
    "5. The deployed model serves predictions using the deployment pattern that you have specified: \n",
    "    * online, \n",
    "    * batch,\n",
    "    * streaming predictions. \n",
    "In addition to serving predictions, the serving runtime can generate model explanations and capture serving logs to be used by the continuous monitoring process.\n",
    "\n",
    "6. The continuous monitoring process monitors the model for predictive effectiveness and service. The primary\n",
    "concern of effectiveness performance monitoring is detecting\n",
    "    * model decay—for like data and concept drift.  \n",
    "The model deployment can also be monitored for efficiency metrics like latency, throughput, hardware\n",
    "resource utilization, and execution errors. \n",
    "\n",
    "\n"
   ]
  },
  {
   "cell_type": "markdown",
   "id": "14ff04c4",
   "metadata": {},
   "source": [
    "## MLOps need of technical capabilities\n",
    "* can be provided by a single integrated ML platform.\n",
    "* can be created by combining vendor tools that each are best suited to particular tasks, developed as custom services, or created as a combination of these approaches.\n",
    "\n",
    "<img src=\"graphs/techincal capabilities.png\" alt=\"image\" width=\"500\" height=\"auto\">\n",
    "\n",
    "\n",
    "\n",
    "\n"
   ]
  },
  {
   "cell_type": "markdown",
   "id": "37df1a7e",
   "metadata": {},
   "source": [
    "# MLOps key tasks"
   ]
  },
  {
   "cell_type": "markdown",
   "id": "94258b74",
   "metadata": {},
   "source": [
    "## 1. ML development\n",
    "<img src=\"graphs/ml_dev.png\" alt=\"image\" width=\"600\" height=\"auto\">"
   ]
  },
  {
   "cell_type": "markdown",
   "id": "01891a23",
   "metadata": {},
   "source": [
    "## 2. Training operationalization\n",
    "\n",
    "<img src=\"graphs/training_op.png\" alt=\"image\" width=\"600\" height=\"auto\">\n"
   ]
  },
  {
   "cell_type": "markdown",
   "id": "af6f5d90",
   "metadata": {},
   "source": [
    "## 3. Continuous training\n",
    "\n",
    "<img src=\"graphs/cont_train.png\" alt=\"image\" width=\"600\" height=\"auto\">\n"
   ]
  },
  {
   "cell_type": "markdown",
   "id": "7b63be6c",
   "metadata": {},
   "source": [
    "## 4. Model deployment\n",
    "\n",
    "<img src=\"graphs/model_dep.png\" alt=\"image\" width=\"600\" height=\"auto\">\n"
   ]
  },
  {
   "cell_type": "markdown",
   "id": "dab2f077",
   "metadata": {},
   "source": [
    "## 5. Prediction serving\n",
    "\n",
    "<img src=\"graphs/pred_serv.png\" alt=\"image\" width=\"600\" height=\"auto\">\n"
   ]
  },
  {
   "cell_type": "markdown",
   "id": "5999b38b",
   "metadata": {},
   "source": [
    "## 6. Continuous monitoring\n",
    "\n",
    "<img src=\"graphs/cont_monit.png\" alt=\"image\" width=\"600\" height=\"auto\">\n"
   ]
  },
  {
   "cell_type": "markdown",
   "id": "7ede4c85",
   "metadata": {},
   "source": [
    "## 7. Dataset and feature management\n",
    "\n",
    "<img src=\"graphs/data_feat_management.png\" alt=\"image\" width=\"600\" height=\"auto\">\n"
   ]
  },
  {
   "cell_type": "markdown",
   "id": "49b20452",
   "metadata": {},
   "source": [
    "## 8. ML metadata tracking\n",
    "\n",
    "<img src=\"graphs/ml_meta.png\" alt=\"image\" width=\"600\" height=\"auto\">\n"
   ]
  },
  {
   "cell_type": "markdown",
   "id": "8067d1b5",
   "metadata": {},
   "source": [
    "## 8. Putting it all together - E2E MLOps workflow\n",
    "\n",
    "<img src=\"graphs/e2e.png\" alt=\"image\" width=\"600\" height=\"auto\">\n"
   ]
  },
  {
   "cell_type": "markdown",
   "id": "c80f7d07",
   "metadata": {},
   "source": [
    "## Useful links:\n",
    "* https://cloud.google.com/architecture/mlops-continuous-delivery-and-automation-pipelines-in-machine-learning\n",
    "* https://cloud.google.com/resources/mlops-whitepaper?hl=pl"
   ]
  }
 ],
 "metadata": {
  "kernelspec": {
   "display_name": "Python 3 (ipykernel)",
   "language": "python",
   "name": "python3"
  },
  "language_info": {
   "codemirror_mode": {
    "name": "ipython",
    "version": 3
   },
   "file_extension": ".py",
   "mimetype": "text/x-python",
   "name": "python",
   "nbconvert_exporter": "python",
   "pygments_lexer": "ipython3",
   "version": "3.11.5"
  }
 },
 "nbformat": 4,
 "nbformat_minor": 5
}
