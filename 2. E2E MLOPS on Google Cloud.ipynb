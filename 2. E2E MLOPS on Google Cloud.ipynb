{
 "cells": [
  {
   "cell_type": "markdown",
   "id": "297498a5",
   "metadata": {},
   "source": [
    "**“Practicing MLOps means that you advocate for automation and monitoring at all steps of ML system construction, including integration, testing, releasing, deployment and infrastructure management” – Google**"
   ]
  },
  {
   "cell_type": "markdown",
   "id": "4e27f50c",
   "metadata": {},
   "source": [
    "## Stage 1. - Data Management\n",
    "\n",
    "### Purpose\n",
    "Progressively improve the quality of the data and the performance in delivering the data for model training.\n",
    "\n",
    "<img src=\"graphs/s1.png\" alt=\"image\" width=\"600\" height=\"auto\">\n"
   ]
  },
  {
   "cell_type": "markdown",
   "id": "124923ab",
   "metadata": {},
   "source": [
    "## Stage 2. - Experimentation\n",
    "\n",
    "### Purpose\n",
    "Progressively develop data requirements, model architecture, training procedures and evaluation metrics to transition model experimentation into a production environment.\n",
    "<img src=\"graphs/s2.png\" alt=\"image\" width=\"600\" height=\"auto\">\n"
   ]
  },
  {
   "cell_type": "markdown",
   "id": "6f80c5a1",
   "metadata": {},
   "source": [
    "## Stage 3. - Formalization\n",
    "\n",
    "### Purpose\n",
    "Automate the production pipeline for continuous integration into ML operations, and where the pipeline continuously develops higher performing candidate models.\n",
    "<img src=\"graphs/s3.png\" alt=\"image\" width=\"600\" height=\"auto\">\n"
   ]
  },
  {
   "cell_type": "markdown",
   "id": "c2f2ca32",
   "metadata": {},
   "source": [
    "## Stage 4. - Evaluation \n",
    "\n",
    "### Purpose\n",
    "Evaluate a candidate model for exceeding performance and business objectives to become the next blessed model.\n",
    "\n",
    "\n",
    "<img src=\"graphs/s4.png\" alt=\"image\" width=\"600\" height=\"auto\">\n"
   ]
  },
  {
   "cell_type": "markdown",
   "id": "f706ed00",
   "metadata": {},
   "source": [
    "## Stage 5. - Deployment\n",
    "\n",
    "### Purpose\n",
    "Configure compute and networking requirements for containerized serving binaries for a production load.\n",
    "\n",
    "\n",
    "\n",
    "<img src=\"graphs/s5.png\" alt=\"image\" width=\"600\" height=\"auto\">\n"
   ]
  },
  {
   "cell_type": "markdown",
   "id": "e3de0319",
   "metadata": {},
   "source": [
    "## Stage 6. - Serving\n",
    "\n",
    "### Purpose\n",
    "Process prediction requests and return corresponding predictions in a timely manner consistent with the business requirement, whether online, on-demand or batch predictions\n",
    "\n",
    "\n",
    "\n",
    "<img src=\"graphs/s6.png\" alt=\"image\" width=\"600\" height=\"auto\">\n"
   ]
  },
  {
   "cell_type": "markdown",
   "id": "90a4d025",
   "metadata": {},
   "source": [
    "## Stage 7. - Monitoring\n",
    "\n",
    "### Purpose\n",
    "Monitor predict requests to detect model degradation and alert or trigger degradation response procedures.\n",
    "\n",
    "\n",
    "\n",
    "\n",
    "\n",
    "<img src=\"graphs/s7.png\" alt=\"image\" width=\"600\" height=\"auto\">\n"
   ]
  },
  {
   "cell_type": "markdown",
   "id": "6cfaf842",
   "metadata": {},
   "source": [
    "## Stage 8. - Continous Training\n",
    "\n",
    "\n",
    "### Purpose\n",
    "Respond to data and code changess in Model environment\n",
    "\n",
    "\n",
    "\n",
    "\n",
    "\n",
    "<img src=\"graphs/s2.png\" alt=\"image\" width=\"600\" height=\"auto\">\n"
   ]
  },
  {
   "cell_type": "markdown",
   "id": "a3cf5ec8",
   "metadata": {},
   "source": [
    "### More reading:\n",
    "1. https://cloud.google.com/architecture/ml-on-gcp-best-practices\n",
    "\n",
    "2. https://cloud.google.com/architecture/architecture-for-mlops-using-tfx-kubeflow-pipelines-and-cloud-build\n",
    "\n",
    "\n",
    "3. https://cloud.google.com/vertex-ai/docs/start/introduction-mlops\n"
   ]
  }
 ],
 "metadata": {
  "kernelspec": {
   "display_name": "Python 3 (ipykernel)",
   "language": "python",
   "name": "python3"
  },
  "language_info": {
   "codemirror_mode": {
    "name": "ipython",
    "version": 3
   },
   "file_extension": ".py",
   "mimetype": "text/x-python",
   "name": "python",
   "nbconvert_exporter": "python",
   "pygments_lexer": "ipython3",
   "version": "3.11.5"
  }
 },
 "nbformat": 4,
 "nbformat_minor": 5
}
